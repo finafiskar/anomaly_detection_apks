{
 "cells": [
  {
   "cell_type": "markdown",
   "metadata": {},
   "source": [
    "# Cluster APK\n",
    "\n",
    "Building as an extension to: https://reports.exodus-privacy.eu.org"
   ]
  },
  {
   "cell_type": "code",
   "execution_count": 1,
   "metadata": {},
   "outputs": [],
   "source": [
    "from axmlparserpy.apk import APK\n",
    "import os"
   ]
  },
  {
   "cell_type": "code",
   "execution_count": 2,
   "metadata": {},
   "outputs": [],
   "source": [
    "apk_path = '/home/tiger/Projects/0xff/apks/summoner.apk'"
   ]
  },
  {
   "cell_type": "markdown",
   "metadata": {},
   "source": [
    "## Scape APKs"
   ]
  },
  {
   "cell_type": "code",
   "execution_count": 3,
   "metadata": {},
   "outputs": [],
   "source": [
    "app_ids_for_download = {\n",
    "    'com.teliasonera.cis.tps',\n",
    "    'com.nianticlabs.pokemongo',\n",
    "    'com.peacock.flashlight',\n",
    "    'com.msales.flashlight',\n",
    "    'com.viber.voip'\n",
    "}\n",
    "\n",
    "CACHED_APP_ID_TO_APK_BYTES_PATH = './apks/apk_dict.pickle'"
   ]
  },
  {
   "cell_type": "code",
   "execution_count": 4,
   "metadata": {},
   "outputs": [],
   "source": [
    "from requests_html import HTMLSession\n",
    "import requests\n",
    "import pickle\n",
    "from sys import stderr\n",
    "from typing import Dict\n",
    "\n",
    "session = HTMLSession()\n",
    "\n",
    "from pathlib import Path\n",
    "\n",
    "class NoMatchingSearchResultError(Exception):\n",
    "    def __init__(self, app_id: str):\n",
    "        super().__init__(f'No search result was found for app id {app_id}.')\n",
    "        self.app_id = app_id\n",
    "\n",
    "\n",
    "def download_apk(app_id: str) -> bytes:\n",
    "    session = HTMLSession()\n",
    "    \n",
    "    search_response = session.get(\n",
    "        'https://www.apkpure.com/search',\n",
    "        params=dict(q=app_id)\n",
    "    )\n",
    "    \n",
    "    try:\n",
    "        app_result_page_link = '/'.join([\n",
    "            'https://www.apkpure.com',\n",
    "            next(\n",
    "                element.attrs['href']\n",
    "                for element in\n",
    "                search_response.html.find('.search-dl .search-title > a')\n",
    "                if element.attrs['href'].endswith(app_id)\n",
    "            )[1:],\n",
    "            'download?from=details'\n",
    "        ])        \n",
    "    except StopIteration as e:\n",
    "        raise NoMatchingResultError(app_id) from e \n",
    "        \n",
    "    return requests.get(\n",
    "        url=session.get(app_result_page_link).html.find('#download_link', first=True).attrs['href']\n",
    "    ).content\n",
    "    \n",
    "\n",
    "try:\n",
    "    with open(CACHED_APP_ID_TO_APK_BYTES_PATH, 'rb') as fp:\n",
    "        app_id_to_apk_bytes: Dict[str, bytes] = pickle.load(fp)\n",
    "except FileNotFoundError as e:\n",
    "    app_id_to_apk_bytes: Dict[str, bytes] = {}\n",
    "    print(e, file=stderr)\n",
    "\n",
    "for cached_app_id in app_id_to_apk_bytes:\n",
    "    app_ids_for_download.discard(cached_app_id)\n",
    "    \n",
    "for app_id in app_ids_for_download:\n",
    "    app_id_to_apk_bytes[app_id] = download_apk(app_id=app_id)\n",
    "\n",
    "with open(CACHED_APP_ID_TO_APK_BYTES_PATH, 'wb') as fp:\n",
    "    pickle.dump(app_id_to_apk_bytes, fp)\n",
    "    \n",
    "apks = {\n",
    "    app_id: APK(apk_bytes, True)\n",
    "    for app_id, apk_bytes in app_id_to_apk_bytes.items()\n",
    "}"
   ]
  },
  {
   "cell_type": "code",
   "execution_count": 5,
   "metadata": {},
   "outputs": [
    {
     "data": {
      "text/plain": [
       "dict_keys(['com.nianticlabs.pokemongo', 'com.msales.flashlight', 'com.teliasonera.cis.tps', 'com.viber.voip', 'com.peacock.flashlight'])"
      ]
     },
     "execution_count": 5,
     "metadata": {},
     "output_type": "execute_result"
    }
   ],
   "source": [
    "apks.keys()"
   ]
  },
  {
   "cell_type": "code",
   "execution_count": null,
   "metadata": {},
   "outputs": [],
   "source": []
  },
  {
   "cell_type": "code",
   "execution_count": null,
   "metadata": {},
   "outputs": [],
   "source": []
  },
  {
   "cell_type": "markdown",
   "metadata": {},
   "source": [
    "## Build feature set"
   ]
  },
  {
   "cell_type": "code",
   "execution_count": 6,
   "metadata": {},
   "outputs": [
    {
     "data": {
      "text/plain": [
       "{'com.nianticlabs.pokemongo': <axmlparserpy.apk.APK at 0x7fce0f85f5f8>,\n",
       " 'com.msales.flashlight': <axmlparserpy.apk.APK at 0x7fce0f85f160>,\n",
       " 'com.teliasonera.cis.tps': <axmlparserpy.apk.APK at 0x7fce0f6ae908>,\n",
       " 'com.viber.voip': <axmlparserpy.apk.APK at 0x7fce0f6a9da0>,\n",
       " 'com.peacock.flashlight': <axmlparserpy.apk.APK at 0x7fce0f68c5c0>}"
      ]
     },
     "execution_count": 6,
     "metadata": {},
     "output_type": "execute_result"
    }
   ],
   "source": [
    "apks"
   ]
  },
  {
   "cell_type": "markdown",
   "metadata": {},
   "source": [
    "### Interesting APK fields\n",
    "\n",
    "* Activities\n",
    "* permissions\n",
    "* services\n",
    "* receivers\n",
    "* libraries"
   ]
  },
  {
   "cell_type": "code",
   "execution_count": 7,
   "metadata": {},
   "outputs": [],
   "source": [
    "def get_category(name):\n",
    "    r = session.get('https://play.google.com/store/apps/details?id=' + name)\n",
    "    elements = r.html.find(\"a.hrTbp.R8zArc\")\n",
    "    category = elements[1].attrs['href'].split('/')[-1]\n",
    "    return category\n",
    "    \n",
    "def get_features(apks):\n",
    "    l = []\n",
    "    for name, ap in apks.items():\n",
    "        tmp = {}\n",
    "        for f in ap.activities:\n",
    "            tmp[f.split('.')[-1]] = 1\n",
    "        for f in ap.permissions:\n",
    "            tmp[f.split('.')[-1]] = 1\n",
    "        for f in ap.services:\n",
    "            tmp[f.split('.')[-1]] = 1\n",
    "        for f in ap.receivers:\n",
    "            tmp[f.split('.')[-1]] = 1\n",
    "        for f in ap.libraries:\n",
    "            tmp[f.split('.')[-1]] = 1\n",
    "\n",
    "        tmp['category'] = get_category(name)\n",
    "        l.append(tmp)\n",
    "    return l"
   ]
  },
  {
   "cell_type": "code",
   "execution_count": 8,
   "metadata": {},
   "outputs": [],
   "source": [
    "apk_features = get_features(apks)\n",
    "features_names = []\n",
    "for ap in apk_features:\n",
    "    features_names.extend(ap.keys())\n",
    "features_names = list(set(features_names))"
   ]
  },
  {
   "cell_type": "code",
   "execution_count": 9,
   "metadata": {},
   "outputs": [],
   "source": [
    "import pandas as pd\n",
    "df = pd.DataFrame(apk_features, index=list(apks.keys()))\n",
    "df = df.fillna(int(0))"
   ]
  },
  {
   "cell_type": "code",
   "execution_count": 10,
   "metadata": {},
   "outputs": [
    {
     "name": "stdout",
     "output_type": "stream",
     "text": [
      "Data summary\n",
      "Number of features:  411\n"
     ]
    },
    {
     "data": {
      "text/plain": [
       "com.nianticlabs.pokemongo         GAME_ADVENTURE\n",
       "com.msales.flashlight                  LIFESTYLE\n",
       "com.teliasonera.cis.tps      MAPS_AND_NAVIGATION\n",
       "com.viber.voip                     COMMUNICATION\n",
       "com.peacock.flashlight                     TOOLS\n",
       "Name: category, dtype: object"
      ]
     },
     "execution_count": 10,
     "metadata": {},
     "output_type": "execute_result"
    }
   ],
   "source": [
    "print('Data summary')\n",
    "print('Number of features: ', len(features_names))\n",
    "df.head()['category']"
   ]
  },
  {
   "cell_type": "code",
   "execution_count": 11,
   "metadata": {
    "scrolled": true
   },
   "outputs": [
    {
     "name": "stdout",
     "output_type": "stream",
     "text": [
      "com.nianticlabs.pokemongo         GAME_ADVENTURE\n",
      "com.msales.flashlight                  LIFESTYLE\n",
      "com.teliasonera.cis.tps      MAPS_AND_NAVIGATION\n",
      "com.viber.voip                     COMMUNICATION\n",
      "com.peacock.flashlight                     TOOLS\n",
      "Name: category, dtype: object\n"
     ]
    }
   ],
   "source": [
    "categories = df['category']\n",
    "print(categories)"
   ]
  },
  {
   "cell_type": "code",
   "execution_count": 12,
   "metadata": {},
   "outputs": [],
   "source": [
    "del df['category']"
   ]
  },
  {
   "cell_type": "markdown",
   "metadata": {},
   "source": [
    "# Clustering"
   ]
  },
  {
   "cell_type": "code",
   "execution_count": 13,
   "metadata": {},
   "outputs": [],
   "source": [
    "from sklearn.cluster import KMeans"
   ]
  },
  {
   "cell_type": "code",
   "execution_count": 14,
   "metadata": {},
   "outputs": [
    {
     "data": {
      "text/plain": [
       "array([3, 0, 2, 1, 0], dtype=int32)"
      ]
     },
     "execution_count": 14,
     "metadata": {},
     "output_type": "execute_result"
    }
   ],
   "source": [
    "km = KMeans(n_clusters=4)\n",
    "km.fit_predict(df)"
   ]
  },
  {
   "cell_type": "code",
   "execution_count": 17,
   "metadata": {},
   "outputs": [
    {
     "name": "stdout",
     "output_type": "stream",
     "text": [
      "3.6.7\n"
     ]
    }
   ],
   "source": []
  },
  {
   "cell_type": "code",
   "execution_count": null,
   "metadata": {},
   "outputs": [],
   "source": []
  }
 ],
 "metadata": {
  "kernelspec": {
   "display_name": "Python 3",
   "language": "python",
   "name": "python3"
  },
  "language_info": {
   "codemirror_mode": {
    "name": "ipython",
    "version": 3
   },
   "file_extension": ".py",
   "mimetype": "text/x-python",
   "name": "python",
   "nbconvert_exporter": "python",
   "pygments_lexer": "ipython3",
   "version": "3.6.8"
  }
 },
 "nbformat": 4,
 "nbformat_minor": 2
}
